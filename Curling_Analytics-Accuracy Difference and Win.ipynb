{
 "cells": [
  {
   "cell_type": "markdown",
   "id": "fc85e781",
   "metadata": {},
   "source": [
    "# Curling Analytics - Scoreboard Management Analysis\n",
    "\n",
    "### Context\n",
    "\n",
    "Scoreboard management in curling refers to managing the score and the hammer of the future ends. The team that has the hammer (last stone of the end) has the advantage to score. Once a team scores, the team that did not score in the preceding end has the hammer. If neither team scores, called a blanked end, the hammer remains with the same team.\n",
    "\n",
    "Because of the tactical value of the hammer, the team with the hammer aims to score more than multiple points or to blank the end to keep the hammer. Teams also tends to keep the hammer in even ends so that the team will have the hammer in the last end. Often, teams need to decide how much to score with the hammer in the last few ends to maximize the chance to win.\n",
    "\n",
    "In this analysis, I’m trying to explore how much games are won under different ends, score difference, and with or without hammer. For example, I want to how many/what percentage of games are won when at the beginning of End 8, the team with hammer is leading with 1 point?"
   ]
  },
  {
   "cell_type": "markdown",
   "id": "ec88c0bd",
   "metadata": {},
   "source": [
    "### Preparation"
   ]
  },
  {
   "cell_type": "code",
   "execution_count": 1,
   "id": "c7a7d7f9",
   "metadata": {},
   "outputs": [],
   "source": [
    "import os\n",
    "import pandas as pd\n",
    "import numpy as np\n",
    "import database_functions as db\n",
    "import matplotlib.pyplot as plt\n",
    "\n",
    "os.environ[\"CADBPATH\"]=os.getcwd() + \"\\\\curling_data.db\"\n",
    "\n",
    "pd.set_option('display.max_rows', 500)"
   ]
  },
  {
   "cell_type": "markdown",
   "id": "08d49189",
   "metadata": {},
   "source": [
    "### Get data\n",
    "In the following query, I will retrieve a dataframe that contains the information of each ends played with the final result of the game.\n",
    "\n",
    "The field I need:\n",
    "+ Game id\n",
    "+ Event name\n",
    "+ Type of the game (Men's/Women's) for later analysis\n",
    "+ Final score of the game\n",
    "+ The number of ends\n",
    "+ Which team has the hammer\n",
    "+ Scores of the end"
   ]
  },
  {
   "cell_type": "markdown",
   "id": "1ac6ab36",
   "metadata": {},
   "source": [
    "### Data cleasing"
   ]
  },
  {
   "cell_type": "markdown",
   "id": "94c962b8",
   "metadata": {},
   "source": [
    "### Analysis\n",
    "\n",
    "Here I use the pivot_table function from pandas to generate the percentages of each situation."
   ]
  }
 ],
 "metadata": {
  "kernelspec": {
   "display_name": "Python 3 (ipykernel)",
   "language": "python",
   "name": "python3"
  },
  "language_info": {
   "codemirror_mode": {
    "name": "ipython",
    "version": 3
   },
   "file_extension": ".py",
   "mimetype": "text/x-python",
   "name": "python",
   "nbconvert_exporter": "python",
   "pygments_lexer": "ipython3",
   "version": "3.8.12"
  }
 },
 "nbformat": 4,
 "nbformat_minor": 5
}
